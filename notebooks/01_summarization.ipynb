{
 "cells": [
  {
   "cell_type": "markdown",
   "id": "7d7fdceb-4483-4297-8b85-609b83a3585d",
   "metadata": {},
   "source": [
    "# Summarization\n",
    "\n",
    "### Imports"
   ]
  },
  {
   "cell_type": "code",
   "execution_count": 1,
   "id": "f083be4e-c16e-420a-af7f-9962735aa042",
   "metadata": {},
   "outputs": [],
   "source": [
    "# standard library imports\n",
    "import os\n",
    "\n",
    "# third party imports\n",
    "import pandas as pd\n",
    "\n",
    "# local imports\n",
    "os.chdir(\"..\")  # python imports in notebooks :/\n",
    "from src import utils\n",
    "os.chdir(\"notebooks\")"
   ]
  },
  {
   "cell_type": "markdown",
   "id": "9e9b8adb-2612-4826-bdb3-61b7c6e3b25d",
   "metadata": {},
   "source": [
    "### Load aggregated data"
   ]
  },
  {
   "cell_type": "code",
   "execution_count": 2,
   "id": "29341a01-49f4-4c45-832e-bc59b803217e",
   "metadata": {},
   "outputs": [
    {
     "data": {
      "text/html": [
       "<div>\n",
       "<style scoped>\n",
       "    .dataframe tbody tr th:only-of-type {\n",
       "        vertical-align: middle;\n",
       "    }\n",
       "\n",
       "    .dataframe tbody tr th {\n",
       "        vertical-align: top;\n",
       "    }\n",
       "\n",
       "    .dataframe thead th {\n",
       "        text-align: right;\n",
       "    }\n",
       "</style>\n",
       "<table border=\"1\" class=\"dataframe\">\n",
       "  <thead>\n",
       "    <tr style=\"text-align: right;\">\n",
       "      <th></th>\n",
       "      <th>book_url</th>\n",
       "      <th>avg_stars</th>\n",
       "      <th>n_reviews</th>\n",
       "      <th>concat_reviews</th>\n",
       "    </tr>\n",
       "  </thead>\n",
       "  <tbody>\n",
       "    <tr>\n",
       "      <th>0</th>\n",
       "      <td>https://www.amazon.com/dp/B0816SPG7X</td>\n",
       "      <td>4.955556</td>\n",
       "      <td>90</td>\n",
       "      <td>2nd book in the series (hopefully many more to...</td>\n",
       "    </tr>\n",
       "    <tr>\n",
       "      <th>1</th>\n",
       "      <td>https://www.amazon.com/dp/1541645634</td>\n",
       "      <td>4.944444</td>\n",
       "      <td>90</td>\n",
       "      <td>Thomas Sowell's latest book is an excellent, s...</td>\n",
       "    </tr>\n",
       "    <tr>\n",
       "      <th>2</th>\n",
       "      <td>https://www.amazon.com/dp/0735611319</td>\n",
       "      <td>4.866667</td>\n",
       "      <td>90</td>\n",
       "      <td>Seriously, if you are the kind of person who n...</td>\n",
       "    </tr>\n",
       "    <tr>\n",
       "      <th>3</th>\n",
       "      <td>https://www.amazon.com/dp/0997994886</td>\n",
       "      <td>4.861538</td>\n",
       "      <td>65</td>\n",
       "      <td>Хорошо. Вот оставьте на все три книги:Got seve...</td>\n",
       "    </tr>\n",
       "    <tr>\n",
       "      <th>4</th>\n",
       "      <td>https://www.amazon.com/dp/0321751043</td>\n",
       "      <td>4.844444</td>\n",
       "      <td>90</td>\n",
       "      <td>I bought this for my son as a gift.  He just g...</td>\n",
       "    </tr>\n",
       "    <tr>\n",
       "      <th>5</th>\n",
       "      <td>https://www.amazon.com/dp/1907797467</td>\n",
       "      <td>4.844444</td>\n",
       "      <td>90</td>\n",
       "      <td>You know the great nutrition debate on dietary...</td>\n",
       "    </tr>\n",
       "    <tr>\n",
       "      <th>6</th>\n",
       "      <td>https://www.amazon.com/dp/0749481544</td>\n",
       "      <td>4.833333</td>\n",
       "      <td>72</td>\n",
       "      <td>This book explains Data Science with the lens ...</td>\n",
       "    </tr>\n",
       "    <tr>\n",
       "      <th>7</th>\n",
       "      <td>https://www.amazon.com/dp/0815342209</td>\n",
       "      <td>4.822222</td>\n",
       "      <td>90</td>\n",
       "      <td>With the name Weinberg on the book, you will g...</td>\n",
       "    </tr>\n",
       "    <tr>\n",
       "      <th>8</th>\n",
       "      <td>https://www.amazon.com/dp/1617291382</td>\n",
       "      <td>4.813559</td>\n",
       "      <td>59</td>\n",
       "      <td>A comprehensive overview of basic structures o...</td>\n",
       "    </tr>\n",
       "    <tr>\n",
       "      <th>9</th>\n",
       "      <td>https://www.amazon.com/dp/1600490069</td>\n",
       "      <td>4.811111</td>\n",
       "      <td>90</td>\n",
       "      <td>For beginners:A. For somewhat theoretical appr...</td>\n",
       "    </tr>\n",
       "  </tbody>\n",
       "</table>\n",
       "</div>"
      ],
      "text/plain": [
       "                               book_url  avg_stars  n_reviews  \\\n",
       "0  https://www.amazon.com/dp/B0816SPG7X   4.955556         90   \n",
       "1  https://www.amazon.com/dp/1541645634   4.944444         90   \n",
       "2  https://www.amazon.com/dp/0735611319   4.866667         90   \n",
       "3  https://www.amazon.com/dp/0997994886   4.861538         65   \n",
       "4  https://www.amazon.com/dp/0321751043   4.844444         90   \n",
       "5  https://www.amazon.com/dp/1907797467   4.844444         90   \n",
       "6  https://www.amazon.com/dp/0749481544   4.833333         72   \n",
       "7  https://www.amazon.com/dp/0815342209   4.822222         90   \n",
       "8  https://www.amazon.com/dp/1617291382   4.813559         59   \n",
       "9  https://www.amazon.com/dp/1600490069   4.811111         90   \n",
       "\n",
       "                                      concat_reviews  \n",
       "0  2nd book in the series (hopefully many more to...  \n",
       "1  Thomas Sowell's latest book is an excellent, s...  \n",
       "2  Seriously, if you are the kind of person who n...  \n",
       "3  Хорошо. Вот оставьте на все три книги:Got seve...  \n",
       "4  I bought this for my son as a gift.  He just g...  \n",
       "5  You know the great nutrition debate on dietary...  \n",
       "6  This book explains Data Science with the lens ...  \n",
       "7  With the name Weinberg on the book, you will g...  \n",
       "8  A comprehensive overview of basic structures o...  \n",
       "9  For beginners:A. For somewhat theoretical appr...  "
      ]
     },
     "execution_count": 2,
     "metadata": {},
     "output_type": "execute_result"
    }
   ],
   "source": [
    "df = pd.read_csv(os.path.join(\"..\", \"data\", \"concat_reviews.csv\"))\n",
    "df.head(10)"
   ]
  },
  {
   "cell_type": "code",
   "execution_count": 3,
   "id": "bb9e9467-5963-48ee-becd-7894912c776e",
   "metadata": {},
   "outputs": [
    {
     "data": {
      "text/html": [
       "<div>\n",
       "<style scoped>\n",
       "    .dataframe tbody tr th:only-of-type {\n",
       "        vertical-align: middle;\n",
       "    }\n",
       "\n",
       "    .dataframe tbody tr th {\n",
       "        vertical-align: top;\n",
       "    }\n",
       "\n",
       "    .dataframe thead th {\n",
       "        text-align: right;\n",
       "    }\n",
       "</style>\n",
       "<table border=\"1\" class=\"dataframe\">\n",
       "  <thead>\n",
       "    <tr style=\"text-align: right;\">\n",
       "      <th></th>\n",
       "      <th>book_url</th>\n",
       "      <th>avg_stars</th>\n",
       "      <th>n_reviews</th>\n",
       "      <th>concat_reviews</th>\n",
       "    </tr>\n",
       "  </thead>\n",
       "  <tbody>\n",
       "    <tr>\n",
       "      <th>146</th>\n",
       "      <td>https://www.amazon.com/dp/B07VL5TCVF</td>\n",
       "      <td>3.689655</td>\n",
       "      <td>87</td>\n",
       "      <td>Donald is an incredible person, scientist, spe...</td>\n",
       "    </tr>\n",
       "    <tr>\n",
       "      <th>147</th>\n",
       "      <td>https://www.amazon.com/dp/1589484568</td>\n",
       "      <td>3.679245</td>\n",
       "      <td>53</td>\n",
       "      <td>This textbook leaves a lot to be desired as fa...</td>\n",
       "    </tr>\n",
       "    <tr>\n",
       "      <th>148</th>\n",
       "      <td>https://www.amazon.com/dp/0123814790</td>\n",
       "      <td>3.545455</td>\n",
       "      <td>55</td>\n",
       "      <td>It looks like a great book; I read the Kindle ...</td>\n",
       "    </tr>\n",
       "    <tr>\n",
       "      <th>149</th>\n",
       "      <td>https://www.amazon.com/dp/0134133536</td>\n",
       "      <td>3.433333</td>\n",
       "      <td>60</td>\n",
       "      <td>Came fast, and it’s way better than buying a b...</td>\n",
       "    </tr>\n",
       "    <tr>\n",
       "      <th>150</th>\n",
       "      <td>https://www.amazon.com/dp/0262035618</td>\n",
       "      <td>3.288889</td>\n",
       "      <td>90</td>\n",
       "      <td>This is not a coding book. I see a lot of nega...</td>\n",
       "    </tr>\n",
       "    <tr>\n",
       "      <th>151</th>\n",
       "      <td>https://www.amazon.com/dp/0534399428</td>\n",
       "      <td>3.149254</td>\n",
       "      <td>67</td>\n",
       "      <td>I'm a junior at UCBerk who took a comprehensiv...</td>\n",
       "    </tr>\n",
       "    <tr>\n",
       "      <th>152</th>\n",
       "      <td>https://www.amazon.com/dp/0134135369</td>\n",
       "      <td>2.942029</td>\n",
       "      <td>69</td>\n",
       "      <td>STUDENTS BEWARE!!!!  The item title of this te...</td>\n",
       "    </tr>\n",
       "    <tr>\n",
       "      <th>153</th>\n",
       "      <td>https://www.amazon.com/dp/1526436566</td>\n",
       "      <td>2.784314</td>\n",
       "      <td>51</td>\n",
       "      <td>No!!! So distracting. I get the idea of making...</td>\n",
       "    </tr>\n",
       "    <tr>\n",
       "      <th>154</th>\n",
       "      <td>https://www.amazon.com/dp/B07NJCG1XS</td>\n",
       "      <td>2.766667</td>\n",
       "      <td>90</td>\n",
       "      <td>As one reviewer mentioned, the Interlude and t...</td>\n",
       "    </tr>\n",
       "    <tr>\n",
       "      <th>155</th>\n",
       "      <td>https://www.amazon.com/dp/B0007OB40E</td>\n",
       "      <td>2.700000</td>\n",
       "      <td>90</td>\n",
       "      <td>The book helped me understand the following:1....</td>\n",
       "    </tr>\n",
       "  </tbody>\n",
       "</table>\n",
       "</div>"
      ],
      "text/plain": [
       "                                 book_url  avg_stars  n_reviews  \\\n",
       "146  https://www.amazon.com/dp/B07VL5TCVF   3.689655         87   \n",
       "147  https://www.amazon.com/dp/1589484568   3.679245         53   \n",
       "148  https://www.amazon.com/dp/0123814790   3.545455         55   \n",
       "149  https://www.amazon.com/dp/0134133536   3.433333         60   \n",
       "150  https://www.amazon.com/dp/0262035618   3.288889         90   \n",
       "151  https://www.amazon.com/dp/0534399428   3.149254         67   \n",
       "152  https://www.amazon.com/dp/0134135369   2.942029         69   \n",
       "153  https://www.amazon.com/dp/1526436566   2.784314         51   \n",
       "154  https://www.amazon.com/dp/B07NJCG1XS   2.766667         90   \n",
       "155  https://www.amazon.com/dp/B0007OB40E   2.700000         90   \n",
       "\n",
       "                                        concat_reviews  \n",
       "146  Donald is an incredible person, scientist, spe...  \n",
       "147  This textbook leaves a lot to be desired as fa...  \n",
       "148  It looks like a great book; I read the Kindle ...  \n",
       "149  Came fast, and it’s way better than buying a b...  \n",
       "150  This is not a coding book. I see a lot of nega...  \n",
       "151  I'm a junior at UCBerk who took a comprehensiv...  \n",
       "152  STUDENTS BEWARE!!!!  The item title of this te...  \n",
       "153  No!!! So distracting. I get the idea of making...  \n",
       "154  As one reviewer mentioned, the Interlude and t...  \n",
       "155  The book helped me understand the following:1....  "
      ]
     },
     "execution_count": 3,
     "metadata": {},
     "output_type": "execute_result"
    }
   ],
   "source": [
    "df.tail(10)"
   ]
  },
  {
   "cell_type": "markdown",
   "id": "05d022dd-baf9-420a-b211-483086cef7cf",
   "metadata": {},
   "source": [
    "### Pick best and worst books actually related to Data Science"
   ]
  },
  {
   "cell_type": "code",
   "execution_count": 4,
   "id": "3cb2864e-e50a-47c5-89b1-942753db6c54",
   "metadata": {},
   "outputs": [],
   "source": [
    "best_book = df.iloc[2]\n",
    "worst_book = df.iloc[153]"
   ]
  },
  {
   "cell_type": "markdown",
   "id": "d0f49fdf-4056-4e17-a9c7-5e171a5870a7",
   "metadata": {},
   "source": [
    "### Look at first 2000 characters of reviews for Best Data Science Book"
   ]
  },
  {
   "cell_type": "code",
   "execution_count": 5,
   "id": "2556feb6-108b-4347-ae34-65d59d3e3d2e",
   "metadata": {},
   "outputs": [
    {
     "data": {
      "text/plain": [
       "'Seriously, if you are the kind of person who needs to understand where things came from to really understand them, this is a great book. It is truly a book on code, and not just \"how to code\" or \"what to do with code\" but \"what on earth is code\" and where did it come from. It explains computers and computing in more usable terms than more technical books on the same subject because it focuses on history and scope rather than technical depth. For a reader like me, who asked every teacher from elementary school through college \"why do we count to 10\" and clung to the best answer of \"it\\'s arbitrary - it\\'s just how it\\'s always been done\" until reading this book (and who struggled to convert binary to base ten), this book was gold. Pure gold. Okay, so I\\'m only 30 pages into this book but I\\'m hooked.  I started taking evening IT classes to get into a different career and ran into some issues in my A+ certification went they kept using volts, amperes and other terms that I only had a vague idea of what they meant.  This book gave me a more solid understanding of these terms, so much so I saved a friend $85 dollars that he was about spent on a starter for his car.  I saw immediately that the cable wire attached to the battery was missing a few inches of electrical tape, leaving the copper exposed.  This book taught me that electricity does not ran very well through air, so we went to Auto Zone and bought some electrical tape to cover the exposed areas, making sure enough electricity is getting to the battery.  I didn\\'t think it was going to work but the car started right up!  For a noob like me this was a big deal.  This author created a strong interest in me for chemistry, which would of been real helpful years ago but oh well.  I enjoyed his intro into Morse code and Brail as it felt he was conditioning readers to grasp idea how computers received and process information.  Brail was very interesting as he pointed out how certain markers will alert a blind person to cease '"
      ]
     },
     "execution_count": 5,
     "metadata": {},
     "output_type": "execute_result"
    }
   ],
   "source": [
    "best_book[\"concat_reviews\"][0:2000]"
   ]
  },
  {
   "cell_type": "markdown",
   "id": "996070e6-d90b-4972-97f1-d0fd17332a93",
   "metadata": {},
   "source": [
    "### Extract key sentences from reviews of Best Data Science Book"
   ]
  },
  {
   "cell_type": "code",
   "execution_count": 6,
   "id": "c0e885f6-eeec-4b4c-86eb-8c5fbf6613e9",
   "metadata": {},
   "outputs": [
    {
     "data": {
      "text/plain": [
       "[('For anyone who wants to \"learn to code,\" but you find yourself confused by or not really bothering to understand concepts like pointers, memory addresses, Boolean logic, or esoteric & ancient magic spells like \"XOR\" or Assembly Language, this book does an excellent job of explaining in real, physical hardware terms exactly what those mean and how they work.',\n",
       "  0.08652239252528753),\n",
       " ('I think Petzold wrote this book so that anyone could understand code and how computers work.',\n",
       "  0.08240945962352243),\n",
       " ('This book starts at the most basic levels and in clear, understandable fashion explains the inner workings of computers.',\n",
       "  0.08157511932330212),\n",
       " (\"It is neither software nor hardware book, and as author Charles Petzold says, the book doesn't explain how computers work in the way you might expect.\",\n",
       "  0.08052635918220098),\n",
       " ('I have been working in computer software for over 40 years and I have read many books on computers.',\n",
       "  0.07983951578565777),\n",
       " ('This book is an excellent introduction into the inner workings of a computer and is a must read for anyone going into computer science, computer programing, or IT as it give the underlying fundamentals to understanding how these machines work in a world that takes them for granted.',\n",
       "  0.07574279999514574),\n",
       " ('This is definitely the best book I have ever read on how computers work.',\n",
       "  0.07562159669361579),\n",
       " ('Petzold barely skims the surface of programming, so if you are looking for a book strictly on coding, search elsewhere (try the more software-oriented explanation of computer workings\\xa0Write Great Code: Volume 1: Understanding the Machine).',\n",
       "  0.07534348554074664),\n",
       " (\"I'm a student in mechanical engineering yet i feel this book is impressively readable and can definitely get anyone to understand how computers work through the different levels that hardware and software interact.\",\n",
       "  0.0747367148061838),\n",
       " (\"If you hate to read, don't want to learn, and are too lazy to work at it - buy it anyway to give him another $15 and then write a review explaining why it's the book/author's fault :P.\",\n",
       "  0.07471204757918905)]"
      ]
     },
     "execution_count": 6,
     "metadata": {},
     "output_type": "execute_result"
    }
   ],
   "source": [
    "utils.summa_wrapper(best_book[\"concat_reviews\"])"
   ]
  },
  {
   "cell_type": "markdown",
   "id": "772fb0ca-0203-412d-90c3-5d77ac8c82d4",
   "metadata": {},
   "source": [
    "### Look at first 2000 characters of reviews for Worst Data Science Book"
   ]
  },
  {
   "cell_type": "code",
   "execution_count": 7,
   "id": "86e4e993-c676-4592-8bbd-265a41a95f8d",
   "metadata": {},
   "outputs": [
    {
     "data": {
      "text/plain": [
       "'No!!! So distracting. I get the idea of making learning fun, but fun doesn\\'t mean a thousand pages out of which only 200 are related to statistics. I only bought it because it was required for one of my classes. Sometimes professors don\\'t understand that not all students learn the same way and they don\\'t care if the book is expensive. Hello!!!! I\\'m a student with limited income?!! I don\\'t understand why most statistics books have a lot of bla bla bla. Would you just get to the point? I don\\'t have all day! This is the worst textbook I have ever read. This is written at a PHD level. Our professor that over looked the class advised me buying a different book because it was so confusing to learn from. I like that Andy uses plain speech to explain things. Some of his jokes are \"smirkable\".  However, the sex talk is not relatable or necessary.  I am no prude, if he had just dropped a few things here and there, I would have just thought, eh, not my taste and blown it off.  None of it is funny or arousing. It certainly doesn\\'t help me understand statistics any better.  In 2019, let\\'s let products sell themselves, sans sex! Worst textbook I have ever been forced to read for a class. Author spends most of the time talking about himself and his characters and less time teaching the facts. You get lost. Waste of money. The general quality of the book structure (not even the content- I\\'ll get to that) is terrible! The cover and pages are flimsy (I\\'ve ripped several pages just turning them) and there is some glossy coating on the pages that ensures reflections will appear on whatever area of the text is most difficult to understand. Did I mention flimsy? Do you remember the part in Men in Black where Will Smith was taking the exam will all the military guys and the tests were too flimsy and unshapely to be of any use? Those test designers also helped with this book. The internal layout is terrible. Three columns per page? Six per spread? \"Bolded\" words that are actually light blu'"
      ]
     },
     "execution_count": 7,
     "metadata": {},
     "output_type": "execute_result"
    }
   ],
   "source": [
    "worst_book[\"concat_reviews\"][0:2000]"
   ]
  },
  {
   "cell_type": "markdown",
   "id": "a5b6959e-e56d-4e37-b105-58c54ab45dd4",
   "metadata": {},
   "source": [
    "### Extract key sentences from reviews of Worst Data Science Book"
   ]
  },
  {
   "cell_type": "code",
   "execution_count": 8,
   "id": "80ff2762-d6ea-42f8-9783-554cb29045cf",
   "metadata": {},
   "outputs": [
    {
     "data": {
      "text/plain": [
       "[('And I understand that statistics may seem a bit dry and may need need some \"spicing up.\" However, the author has gone way too much overboard in incorporating jokes (quite average ones), rock and roll, sexual topics, and miscellaneous personal anecdotes such as how he put his fingers into a fan, how he exposed his genitals as a child, or how he likes so and so\\'s concerts throughout the book, etc.',\n",
       "  0.13196570233479404),\n",
       " ('Andy Field makes stats easy, and I like the formatting of the new book.',\n",
       "  0.13119628333156505),\n",
       " (\"It's like a comic book for statistics....\", 0.13100699309131025),\n",
       " ('This book makes understanding the statistics harder because of all the extraneous information.',\n",
       "  0.13049005660145463),\n",
       " ('I realize Andy field is not a comic book writer and is good at stats but this textbook is horrible.',\n",
       "  0.12465272177851322),\n",
       " ('Perhaps it\\'s just the author\\'s way of trying to create a \"non-boring\" statistics book, but it is highly distracting.',\n",
       "  0.12408359605076723),\n",
       " ('I think this book is meant as a statistical reference for fields like psychology and NOT for STEM field students or serious practitioners in data science.',\n",
       "  0.12153196463850216),\n",
       " ('Great book.', 0.11983861681965773),\n",
       " ('Their book was essential to my learning of statistics and I strongly believe that that’s a better investment for any body who is getting a stat book for learning ( not to just kill time and throw money away).',\n",
       "  0.11980381497414723),\n",
       " ('Students who wish to be entertained can do it from reading a real comic book, not a textbook you are supposed to learn from.2.',\n",
       "  0.11614979533987868),\n",
       " ('I had to use this book for a grad level stats class.', 0.11469397999463342),\n",
       " (\"Sometimes professors don't understand that not all students learn the same way and they don't care if the book is expensive.\",\n",
       "  0.1143785319600562),\n",
       " ('Great book that allows you to get into statistics at the level you are comfortable with.',\n",
       "  0.1122538950646181),\n",
       " (\"Plus, the book is like 10 pounds because of all the extra unnecessary pages of fluff that doesn't add to what we need to know.\",\n",
       "  0.11124189633889049)]"
      ]
     },
     "execution_count": 8,
     "metadata": {},
     "output_type": "execute_result"
    }
   ],
   "source": [
    "utils.summa_wrapper(worst_book[\"concat_reviews\"])"
   ]
  },
  {
   "cell_type": "code",
   "execution_count": null,
   "id": "bfac22dc-8d8b-4d54-acaa-bc81ad049c57",
   "metadata": {},
   "outputs": [],
   "source": []
  }
 ],
 "metadata": {
  "kernelspec": {
   "display_name": "Python 3 (ipykernel)",
   "language": "python",
   "name": "python3"
  },
  "language_info": {
   "codemirror_mode": {
    "name": "ipython",
    "version": 3
   },
   "file_extension": ".py",
   "mimetype": "text/x-python",
   "name": "python",
   "nbconvert_exporter": "python",
   "pygments_lexer": "ipython3",
   "version": "3.9.12"
  }
 },
 "nbformat": 4,
 "nbformat_minor": 5
}
